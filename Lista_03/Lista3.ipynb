{
 "cells": [
  {
   "attachments": {},
   "cell_type": "markdown",
   "metadata": {},
   "source": [
    "# Marcel Versiani e Silva\n",
    "# Lista 3 - Resolução dos exercícios\n",
    "---\n",
    "## Questão 1"
   ]
  },
  {
   "cell_type": "code",
   "execution_count": 1,
   "metadata": {},
   "outputs": [
    {
     "name": "stdout",
     "output_type": "stream",
     "text": [
      "Total Bus fare is: 5500.0\n"
     ]
    }
   ],
   "source": [
    "# Heritage\n",
    "\n",
    "class Vehicle:\n",
    "    def __init__(self, name, mileage, capacity):\n",
    "        self.name = name\n",
    "        self.mileage = mileage\n",
    "        self.capacity = capacity\n",
    "\n",
    "    def fare(self):\n",
    "        return self.capacity * 100\n",
    "\n",
    "class Bus(Vehicle):\n",
    "    def fare(self):\n",
    "        return super().fare() * 1.1\n",
    "    \n",
    "\n",
    "School_bus = Bus(\"School Volvo\", 12, 50)\n",
    "print(\"Total Bus fare is:\", School_bus.fare()) "
   ]
  },
  {
   "attachments": {},
   "cell_type": "markdown",
   "metadata": {},
   "source": [
    "## Questão 2"
   ]
  },
  {
   "cell_type": "code",
   "execution_count": 3,
   "metadata": {},
   "outputs": [
    {
     "name": "stdout",
     "output_type": "stream",
     "text": [
      "I'm  a regular game!\n"
     ]
    }
   ],
   "source": [
    "# MRO: Game -> VideoGame -> RPG\n",
    "\n",
    "class Game:\n",
    "    def type(self):\n",
    "        print(\"I'm  a regular game!\")\n",
    "\n",
    "class VideoGame:\n",
    "    def type(self):\n",
    "        print(\"I'm a game that can only be played on a video game console!\")\n",
    "\n",
    "class RPG(Game, VideoGame):\n",
    "    pass\n",
    "\n",
    "# A lista de classes é [Game, VideoGame], então o método type da classe Game que será chamado\n",
    "\n",
    "rpg = RPG()\n",
    "rpg.type()"
   ]
  },
  {
   "attachments": {},
   "cell_type": "markdown",
   "metadata": {},
   "source": [
    "## Questão 3"
   ]
  },
  {
   "cell_type": "code",
   "execution_count": 6,
   "metadata": {},
   "outputs": [
    {
     "name": "stdout",
     "output_type": "stream",
     "text": [
      "Maya: Woof! Woof!\n",
      "Piu: Chirp! Chirp!\n",
      "Quack quack!\n",
      "Flap flap!\n",
      "I'm quacking like a duck would!\n",
      "I'm flapping my arms, wow!\n"
     ]
    }
   ],
   "source": [
    "# Polimorfism\n",
    "\n",
    "class Animal:\n",
    "    def __init__(self, name):\n",
    "        self.name = name\n",
    "\n",
    "    def talk(self):\n",
    "        raise NotImplementedError(\"Subclass must implement abstract method\")\n",
    "    \n",
    "class Cockatiel(Animal):\n",
    "    def talk(self):\n",
    "        print(f'{self.name}: Chirp! Chirp!')\n",
    "    \n",
    "class Dog(Animal):\n",
    "    def talk(self):\n",
    "        print(f'{self.name}: Woof! Woof!')\n",
    "\n",
    "dog = Dog('Maya')\n",
    "cockatiel = Cockatiel('Piu')\n",
    "dog.talk()\n",
    "cockatiel.talk()\n",
    "\n",
    "# Duck Typing\n",
    "\n",
    "class Duck:\n",
    "    def quack(self):\n",
    "        print('Quack quack!')\n",
    "\n",
    "    def fly(self):\n",
    "        print('Flap flap!')\n",
    "\n",
    "class Person:\n",
    "    def quack(self):\n",
    "        print(\"I'm quacking like a duck would!\")\n",
    "\n",
    "    def fly(self):\n",
    "        print(\"I'm flapping my arms, wow!\")\n",
    "\n",
    "def quack_and_fly(object):\n",
    "    object.quack()\n",
    "    object.fly()\n",
    "\n",
    "donald = Duck()\n",
    "bro = Person()\n",
    "\n",
    "quack_and_fly(donald)\n",
    "quack_and_fly(bro)"
   ]
  },
  {
   "attachments": {},
   "cell_type": "markdown",
   "metadata": {},
   "source": [
    "![](https://media.licdn.com/dms/image/C5612AQFfva0WNd5L4A/article-cover_image-shrink_423_752/0/1520202498571?e=1687392000&v=beta&t=JThHv54YhMVg0da3Haxj3_kiziUZ76UDDhFDdP83qZ0)"
   ]
  },
  {
   "attachments": {},
   "cell_type": "markdown",
   "metadata": {},
   "source": [
    "## Questão 4"
   ]
  },
  {
   "cell_type": "code",
   "execution_count": 8,
   "metadata": {},
   "outputs": [
    {
     "name": "stdout",
     "output_type": "stream",
     "text": [
      "Hello, my name is Mike\n",
      "cat\n",
      "dog\n",
      "10\n"
     ]
    }
   ],
   "source": [
    "# Methods\n",
    "\n",
    "# Instance method\n",
    "class Person:\n",
    "    def  __init__(self, name):\n",
    "        self.name = name\n",
    "    def say_hi(self):\n",
    "        print('Hello, my name is', self.name)\n",
    "\n",
    "\n",
    "# Class method\n",
    "class Animal:\n",
    "    def __init__(self, name):\n",
    "        self.name = name\n",
    "\n",
    "    @classmethod\n",
    "    def factory(cls, names):\n",
    "        return [cls(name) for name in names]\n",
    "    \n",
    "\n",
    "# Static method\n",
    "class Math:\n",
    "    @staticmethod\n",
    "    def add5(x):\n",
    "        return x + 5\n",
    "\n",
    "\n",
    "bro = Person('Mike')\n",
    "bro.say_hi()\n",
    "animals = Animal.factory(['cat', 'dog'])\n",
    "print(animals[0].name)\n",
    "print(animals[1].name)\n",
    "print(Math.add5(5))\n",
    "\n"
   ]
  }
 ],
 "metadata": {
  "kernelspec": {
   "display_name": "Python 3",
   "language": "python",
   "name": "python3"
  },
  "language_info": {
   "codemirror_mode": {
    "name": "ipython",
    "version": 3
   },
   "file_extension": ".py",
   "mimetype": "text/x-python",
   "name": "python",
   "nbconvert_exporter": "python",
   "pygments_lexer": "ipython3",
   "version": "3.10.11"
  },
  "orig_nbformat": 4
 },
 "nbformat": 4,
 "nbformat_minor": 2
}
